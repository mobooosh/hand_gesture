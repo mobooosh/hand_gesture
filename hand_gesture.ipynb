{
  "cells": [
    {
      "cell_type": "code",
      "execution_count": 1,
      "id": "16eb49b4-6a76-4b01-abfb-546851b9b033",
      "metadata": {
        "colab": {
          "base_uri": "https://localhost:8080/"
        },
        "id": "16eb49b4-6a76-4b01-abfb-546851b9b033",
        "outputId": "c97d63c5-b946-40d7-f1ca-a1597060deb8"
      },
      "outputs": [
        {
          "output_type": "stream",
          "name": "stdout",
          "text": [
            "Downloading data from https://storage.googleapis.com/tensorflow/keras-applications/vgg16/vgg16_weights_tf_dim_ordering_tf_kernels_notop.h5\n",
            "58889256/58889256 [==============================] - 1s 0us/step\n"
          ]
        }
      ],
      "source": [
        "from tensorflow import keras\n",
        "from keras.applications import VGG16\n",
        "\n",
        "conv_base = VGG16(weights='imagenet',\n",
        "                  include_top=False,\n",
        "                  input_shape=(150, 150, 3))\n",
        "\n",
        "from keras.preprocessing.image import ImageDataGenerator\n",
        "from keras import optimizers\n",
        "from keras import models\n",
        "from keras import layers\n",
        "\n",
        "import os\n",
        "import shutil\n",
        "\n"
      ]
    },
    {
      "cell_type": "code",
      "execution_count": 2,
      "id": "e2e542e0-d9d2-4c56-ad65-486b9ef8803c",
      "metadata": {
        "colab": {
          "base_uri": "https://localhost:8080/"
        },
        "id": "e2e542e0-d9d2-4c56-ad65-486b9ef8803c",
        "outputId": "15463486-1d08-4245-af2f-7aa77903d9c9"
      },
      "outputs": [
        {
          "output_type": "stream",
          "name": "stdout",
          "text": [
            "--2024-07-14 10:28:45--  http://dl.deepnn.ir/Diverse_hand_gesture_dataset.zip\n",
            "Resolving dl.deepnn.ir (dl.deepnn.ir)... 188.40.164.149\n",
            "Connecting to dl.deepnn.ir (dl.deepnn.ir)|188.40.164.149|:80... connected.\n",
            "HTTP request sent, awaiting response... 200 OK\n",
            "Length: 1088794071 (1.0G) [application/zip]\n",
            "Saving to: ‘Diverse_hand_gesture_dataset.zip’\n",
            "\n",
            "Diverse_hand_gestur 100%[===================>]   1.01G  20.4MB/s    in 49s     \n",
            "\n",
            "2024-07-14 10:29:35 (21.2 MB/s) - ‘Diverse_hand_gesture_dataset.zip’ saved [1088794071/1088794071]\n",
            "\n"
          ]
        }
      ],
      "source": [
        "!wget http://dl.deepnn.ir/Diverse_hand_gesture_dataset.zip"
      ]
    },
    {
      "cell_type": "code",
      "execution_count": 3,
      "id": "ea881835-da63-45d4-8eb8-43b9a69452c1",
      "metadata": {
        "id": "ea881835-da63-45d4-8eb8-43b9a69452c1"
      },
      "outputs": [],
      "source": [
        "!unzip -q Diverse_hand_gesture_dataset.zip"
      ]
    },
    {
      "cell_type": "code",
      "execution_count": 4,
      "id": "896a4d86-1bc1-45f4-9574-3594b08c5160",
      "metadata": {
        "id": "896a4d86-1bc1-45f4-9574-3594b08c5160"
      },
      "outputs": [],
      "source": [
        "input_directory = 'train'"
      ]
    },
    {
      "cell_type": "code",
      "execution_count": 5,
      "id": "bd843936-76c8-481e-8564-a195e477069b",
      "metadata": {
        "id": "bd843936-76c8-481e-8564-a195e477069b"
      },
      "outputs": [],
      "source": [
        "output_directory = 'organized_train'\n",
        "os.makedirs(output_directory, exist_ok=True)"
      ]
    },
    {
      "cell_type": "code",
      "execution_count": 6,
      "id": "26ac6d38-0439-4511-955d-b0e498cad918",
      "metadata": {
        "id": "26ac6d38-0439-4511-955d-b0e498cad918"
      },
      "outputs": [],
      "source": [
        "class_mapping = {\n",
        "    0: 'zero',\n",
        "    1: 'dislike',\n",
        "    2: 'five',\n",
        "    3: 'exactly',\n",
        "    4: 'two',\n",
        "    5: 'three',\n",
        "    6: 'left',\n",
        "    7: 'like'\n",
        "}"
      ]
    },
    {
      "cell_type": "code",
      "execution_count": 7,
      "id": "c59cd5d5-7215-4ce6-bdb7-cad24102d804",
      "metadata": {
        "id": "c59cd5d5-7215-4ce6-bdb7-cad24102d804"
      },
      "outputs": [],
      "source": [
        "for txt_file in os.listdir(input_directory):\n",
        "    if txt_file.endswith('.txt'):\n",
        "        txt_path = os.path.join(input_directory, txt_file)\n",
        "        with open(txt_path, 'r') as file:\n",
        "            class_number = int(file.readline().strip().split()[0])\n",
        "\n",
        "        class_name = class_mapping.get(class_number, 'unknown')\n",
        "\n",
        "        class_directory = os.path.join(output_directory, class_name)\n",
        "        os.makedirs(class_directory, exist_ok=True)\n",
        "\n",
        "        png_file = os.path.splitext(txt_file)[0] + '.png'\n",
        "        png_path = os.path.join(input_directory, png_file)\n",
        "        shutil.copy(png_path, class_directory)"
      ]
    },
    {
      "cell_type": "code",
      "execution_count": 8,
      "id": "41ef2a8b-6a45-4398-9c4f-abbc295066d6",
      "metadata": {
        "id": "41ef2a8b-6a45-4398-9c4f-abbc295066d6"
      },
      "outputs": [],
      "source": [
        "train_datagen = ImageDataGenerator(\n",
        "    rescale=1./255,\n",
        "    rotation_range=40,\n",
        "    width_shift_range=0.2,\n",
        "    height_shift_range=0.2,\n",
        "    shear_range=0.2,\n",
        "    zoom_range=0.2,\n",
        "    horizontal_flip=True,\n",
        "    validation_split=0.1)\n"
      ]
    },
    {
      "cell_type": "code",
      "execution_count": 9,
      "id": "e50521a5-2847-4269-bf46-f273b1185c4a",
      "metadata": {
        "colab": {
          "base_uri": "https://localhost:8080/"
        },
        "id": "e50521a5-2847-4269-bf46-f273b1185c4a",
        "outputId": "b6fe6959-1efe-4857-a082-efce328d2c6b"
      },
      "outputs": [
        {
          "output_type": "stream",
          "name": "stdout",
          "text": [
            "Found 5760 images belonging to 8 classes.\n",
            "Found 640 images belonging to 8 classes.\n"
          ]
        }
      ],
      "source": [
        "test_datagen = ImageDataGenerator(rescale=1./255)\n",
        "\n",
        "train_generator = train_datagen.flow_from_directory(\n",
        "    output_directory,\n",
        "    target_size=(150, 150),\n",
        "    batch_size=32,\n",
        "    subset='training'\n",
        ")\n",
        "validation_generator = train_datagen.flow_from_directory(\n",
        "    output_directory,\n",
        "    target_size=(150, 150),\n",
        "    batch_size=20,\n",
        "    subset='validation'\n",
        ")"
      ]
    },
    {
      "cell_type": "code",
      "execution_count": 10,
      "id": "83a21e39-654b-4a44-b264-ee99cf223a90",
      "metadata": {
        "id": "83a21e39-654b-4a44-b264-ee99cf223a90"
      },
      "outputs": [],
      "source": [
        "model = models.Sequential()\n",
        "model.add(conv_base)\n",
        "model.add(layers.Flatten())\n",
        "model.add(layers.Dense(256, activation='relu'))\n",
        "model.add(layers.BatchNormalization())\n",
        "model.add(layers.Dropout(0.5))\n",
        "model.add(layers.Dense(8, activation='softmax'))"
      ]
    },
    {
      "cell_type": "code",
      "execution_count": 11,
      "id": "94220ff5-a26e-447d-b286-647d46c0e0f5",
      "metadata": {
        "id": "94220ff5-a26e-447d-b286-647d46c0e0f5"
      },
      "outputs": [],
      "source": [
        "conv_base.trainable = False"
      ]
    },
    {
      "cell_type": "code",
      "execution_count": 12,
      "id": "41623a53-5e9f-44e9-ac74-cc65d2227407",
      "metadata": {
        "colab": {
          "base_uri": "https://localhost:8080/"
        },
        "id": "41623a53-5e9f-44e9-ac74-cc65d2227407",
        "outputId": "b46835df-abd7-41b4-9511-217e6246cbeb"
      },
      "outputs": [
        {
          "output_type": "stream",
          "name": "stdout",
          "text": [
            "Model: \"sequential\"\n",
            "_________________________________________________________________\n",
            " Layer (type)                Output Shape              Param #   \n",
            "=================================================================\n",
            " vgg16 (Functional)          (None, 4, 4, 512)         14714688  \n",
            "                                                                 \n",
            " flatten (Flatten)           (None, 8192)              0         \n",
            "                                                                 \n",
            " dense (Dense)               (None, 256)               2097408   \n",
            "                                                                 \n",
            " batch_normalization (Batch  (None, 256)               1024      \n",
            " Normalization)                                                  \n",
            "                                                                 \n",
            " dropout (Dropout)           (None, 256)               0         \n",
            "                                                                 \n",
            " dense_1 (Dense)             (None, 8)                 2056      \n",
            "                                                                 \n",
            "=================================================================\n",
            "Total params: 16815176 (64.14 MB)\n",
            "Trainable params: 2099976 (8.01 MB)\n",
            "Non-trainable params: 14715200 (56.13 MB)\n",
            "_________________________________________________________________\n"
          ]
        }
      ],
      "source": [
        "model.summary()"
      ]
    },
    {
      "cell_type": "code",
      "execution_count": 13,
      "id": "999e9683-f911-4eaa-966c-754bd24745e8",
      "metadata": {
        "id": "999e9683-f911-4eaa-966c-754bd24745e8"
      },
      "outputs": [],
      "source": [
        "conv_base.trainable = True"
      ]
    },
    {
      "cell_type": "code",
      "execution_count": 14,
      "id": "823498f5-3eb4-47ca-b74c-e80de835aa6d",
      "metadata": {
        "id": "823498f5-3eb4-47ca-b74c-e80de835aa6d"
      },
      "outputs": [],
      "source": [
        "set_trainable = False\n",
        "for layer in conv_base.layers:\n",
        "    if layer.name == 'block5_conv1':\n",
        "        set_trainable = True\n",
        "    if set_trainable:\n",
        "        layer.trainable = True\n",
        "    else:\n",
        "        layer.trainable = False"
      ]
    },
    {
      "cell_type": "code",
      "execution_count": 15,
      "id": "9b6a2983-0979-48b4-af8f-a09270b4f44c",
      "metadata": {
        "colab": {
          "base_uri": "https://localhost:8080/"
        },
        "id": "9b6a2983-0979-48b4-af8f-a09270b4f44c",
        "outputId": "4d8b88e6-155e-4a70-c48a-d083df617b8e"
      },
      "outputs": [
        {
          "output_type": "stream",
          "name": "stdout",
          "text": [
            "Model: \"sequential\"\n",
            "_________________________________________________________________\n",
            " Layer (type)                Output Shape              Param #   \n",
            "=================================================================\n",
            " vgg16 (Functional)          (None, 4, 4, 512)         14714688  \n",
            "                                                                 \n",
            " flatten (Flatten)           (None, 8192)              0         \n",
            "                                                                 \n",
            " dense (Dense)               (None, 256)               2097408   \n",
            "                                                                 \n",
            " batch_normalization (Batch  (None, 256)               1024      \n",
            " Normalization)                                                  \n",
            "                                                                 \n",
            " dropout (Dropout)           (None, 256)               0         \n",
            "                                                                 \n",
            " dense_1 (Dense)             (None, 8)                 2056      \n",
            "                                                                 \n",
            "=================================================================\n",
            "Total params: 16815176 (64.14 MB)\n",
            "Trainable params: 9179400 (35.02 MB)\n",
            "Non-trainable params: 7635776 (29.13 MB)\n",
            "_________________________________________________________________\n"
          ]
        }
      ],
      "source": [
        "model.summary()"
      ]
    },
    {
      "cell_type": "code",
      "execution_count": 16,
      "id": "8c83fb47-9a92-4031-a229-ef9695e07bcf",
      "metadata": {
        "id": "8c83fb47-9a92-4031-a229-ef9695e07bcf"
      },
      "outputs": [],
      "source": [
        "model.compile(loss='categorical_crossentropy',\n",
        "              optimizer=optimizers.RMSprop(learning_rate=2e-5),\n",
        "              metrics=['acc'])\n"
      ]
    },
    {
      "cell_type": "code",
      "execution_count": 20,
      "id": "b9ce0f84-a298-4807-a030-34976f6b0d38",
      "metadata": {
        "colab": {
          "base_uri": "https://localhost:8080/"
        },
        "id": "b9ce0f84-a298-4807-a030-34976f6b0d38",
        "outputId": "2a48bb72-a007-4a4a-dfa5-eac7d840183f"
      },
      "outputs": [
        {
          "output_type": "stream",
          "name": "stdout",
          "text": [
            "Epoch 1/75\n",
            "180/180 [==============================] - 59s 329ms/step - loss: 0.1351 - acc: 0.9592 - val_loss: 1.5528 - val_acc: 0.5922\n",
            "Epoch 2/75\n",
            "180/180 [==============================] - 53s 295ms/step - loss: 0.1347 - acc: 0.9571 - val_loss: 1.2558 - val_acc: 0.6281\n",
            "Epoch 3/75\n",
            "180/180 [==============================] - 55s 308ms/step - loss: 0.1265 - acc: 0.9583 - val_loss: 1.2577 - val_acc: 0.6391\n",
            "Epoch 4/75\n",
            "180/180 [==============================] - 54s 298ms/step - loss: 0.1238 - acc: 0.9606 - val_loss: 1.3129 - val_acc: 0.6484\n",
            "Epoch 5/75\n",
            "180/180 [==============================] - 55s 307ms/step - loss: 0.1221 - acc: 0.9594 - val_loss: 1.0977 - val_acc: 0.6766\n",
            "Epoch 6/75\n",
            "180/180 [==============================] - 61s 337ms/step - loss: 0.1092 - acc: 0.9646 - val_loss: 1.0131 - val_acc: 0.6641\n",
            "Epoch 7/75\n",
            "180/180 [==============================] - 54s 302ms/step - loss: 0.0975 - acc: 0.9696 - val_loss: 1.2886 - val_acc: 0.6281\n",
            "Epoch 8/75\n",
            "180/180 [==============================] - 56s 309ms/step - loss: 0.1072 - acc: 0.9639 - val_loss: 1.1472 - val_acc: 0.6578\n",
            "Epoch 9/75\n",
            "180/180 [==============================] - 55s 304ms/step - loss: 0.0991 - acc: 0.9679 - val_loss: 1.3079 - val_acc: 0.6438\n",
            "Epoch 10/75\n",
            "180/180 [==============================] - 57s 316ms/step - loss: 0.1007 - acc: 0.9672 - val_loss: 1.3217 - val_acc: 0.6313\n",
            "Epoch 11/75\n",
            "180/180 [==============================] - 56s 309ms/step - loss: 0.0958 - acc: 0.9703 - val_loss: 1.3896 - val_acc: 0.6313\n",
            "Epoch 12/75\n",
            "180/180 [==============================] - 57s 316ms/step - loss: 0.0948 - acc: 0.9688 - val_loss: 1.1541 - val_acc: 0.6594\n",
            "Epoch 13/75\n",
            "180/180 [==============================] - 60s 336ms/step - loss: 0.0871 - acc: 0.9712 - val_loss: 1.1276 - val_acc: 0.6594\n",
            "Epoch 14/75\n",
            "180/180 [==============================] - 55s 307ms/step - loss: 0.0893 - acc: 0.9717 - val_loss: 1.4076 - val_acc: 0.6281\n",
            "Epoch 15/75\n",
            "180/180 [==============================] - 58s 319ms/step - loss: 0.0840 - acc: 0.9731 - val_loss: 1.1206 - val_acc: 0.6875\n",
            "Epoch 16/75\n",
            "180/180 [==============================] - 55s 307ms/step - loss: 0.0838 - acc: 0.9747 - val_loss: 1.2437 - val_acc: 0.6344\n",
            "Epoch 17/75\n",
            "180/180 [==============================] - 57s 316ms/step - loss: 0.0906 - acc: 0.9689 - val_loss: 1.1925 - val_acc: 0.6672\n",
            "Epoch 18/75\n",
            "180/180 [==============================] - 55s 307ms/step - loss: 0.0692 - acc: 0.9790 - val_loss: 1.1241 - val_acc: 0.6953\n",
            "Epoch 19/75\n",
            "180/180 [==============================] - 57s 315ms/step - loss: 0.0768 - acc: 0.9757 - val_loss: 1.2935 - val_acc: 0.6562\n",
            "Epoch 20/75\n",
            "180/180 [==============================] - 61s 337ms/step - loss: 0.0694 - acc: 0.9769 - val_loss: 1.2635 - val_acc: 0.6766\n",
            "Epoch 21/75\n",
            "180/180 [==============================] - 57s 314ms/step - loss: 0.0740 - acc: 0.9750 - val_loss: 1.2226 - val_acc: 0.6656\n",
            "Epoch 22/75\n",
            "180/180 [==============================] - 60s 336ms/step - loss: 0.0731 - acc: 0.9788 - val_loss: 1.3061 - val_acc: 0.6766\n",
            "Epoch 23/75\n",
            "180/180 [==============================] - 54s 302ms/step - loss: 0.0719 - acc: 0.9786 - val_loss: 1.7746 - val_acc: 0.6047\n",
            "Epoch 24/75\n",
            "180/180 [==============================] - 57s 318ms/step - loss: 0.0681 - acc: 0.9797 - val_loss: 1.0727 - val_acc: 0.6938\n",
            "Epoch 25/75\n",
            "180/180 [==============================] - 55s 307ms/step - loss: 0.0673 - acc: 0.9800 - val_loss: 1.0183 - val_acc: 0.7000\n",
            "Epoch 26/75\n",
            "180/180 [==============================] - 56s 310ms/step - loss: 0.0727 - acc: 0.9757 - val_loss: 1.4457 - val_acc: 0.6328\n",
            "Epoch 27/75\n",
            "180/180 [==============================] - 54s 302ms/step - loss: 0.0651 - acc: 0.9783 - val_loss: 1.2793 - val_acc: 0.6656\n",
            "Epoch 28/75\n",
            "180/180 [==============================] - 56s 309ms/step - loss: 0.0675 - acc: 0.9792 - val_loss: 1.2181 - val_acc: 0.6766\n",
            "Epoch 29/75\n",
            "180/180 [==============================] - 54s 302ms/step - loss: 0.0619 - acc: 0.9793 - val_loss: 1.2869 - val_acc: 0.6359\n",
            "Epoch 30/75\n",
            "180/180 [==============================] - 60s 331ms/step - loss: 0.0629 - acc: 0.9788 - val_loss: 0.9994 - val_acc: 0.7172\n",
            "Epoch 31/75\n",
            "180/180 [==============================] - 54s 301ms/step - loss: 0.0571 - acc: 0.9811 - val_loss: 1.1833 - val_acc: 0.6875\n",
            "Epoch 32/75\n",
            "180/180 [==============================] - 56s 312ms/step - loss: 0.0534 - acc: 0.9837 - val_loss: 1.3387 - val_acc: 0.6641\n",
            "Epoch 33/75\n",
            "180/180 [==============================] - 60s 334ms/step - loss: 0.0571 - acc: 0.9833 - val_loss: 1.2693 - val_acc: 0.6656\n",
            "Epoch 34/75\n",
            "180/180 [==============================] - 54s 301ms/step - loss: 0.0558 - acc: 0.9839 - val_loss: 1.4391 - val_acc: 0.6641\n",
            "Epoch 35/75\n",
            "180/180 [==============================] - 57s 315ms/step - loss: 0.0620 - acc: 0.9802 - val_loss: 1.3102 - val_acc: 0.6750\n",
            "Epoch 36/75\n",
            "180/180 [==============================] - 55s 307ms/step - loss: 0.0457 - acc: 0.9865 - val_loss: 1.2629 - val_acc: 0.6938\n",
            "Epoch 37/75\n",
            "180/180 [==============================] - 56s 312ms/step - loss: 0.0525 - acc: 0.9833 - val_loss: 1.2205 - val_acc: 0.7016\n",
            "Epoch 38/75\n",
            "180/180 [==============================] - 55s 306ms/step - loss: 0.0567 - acc: 0.9795 - val_loss: 1.0829 - val_acc: 0.7094\n",
            "Epoch 39/75\n",
            "180/180 [==============================] - 56s 312ms/step - loss: 0.0549 - acc: 0.9823 - val_loss: 0.9558 - val_acc: 0.7188\n",
            "Epoch 40/75\n",
            "180/180 [==============================] - 55s 303ms/step - loss: 0.0492 - acc: 0.9852 - val_loss: 1.2155 - val_acc: 0.6812\n",
            "Epoch 41/75\n",
            "180/180 [==============================] - 56s 312ms/step - loss: 0.0465 - acc: 0.9858 - val_loss: 1.0469 - val_acc: 0.7250\n",
            "Epoch 42/75\n",
            "180/180 [==============================] - 56s 309ms/step - loss: 0.0446 - acc: 0.9868 - val_loss: 1.0263 - val_acc: 0.7203\n",
            "Epoch 43/75\n",
            "180/180 [==============================] - 56s 309ms/step - loss: 0.0414 - acc: 0.9861 - val_loss: 1.0798 - val_acc: 0.7297\n",
            "Epoch 44/75\n",
            "180/180 [==============================] - 60s 335ms/step - loss: 0.0454 - acc: 0.9845 - val_loss: 1.4362 - val_acc: 0.6859\n",
            "Epoch 45/75\n",
            "180/180 [==============================] - 54s 302ms/step - loss: 0.0426 - acc: 0.9865 - val_loss: 1.1861 - val_acc: 0.7000\n",
            "Epoch 46/75\n",
            "180/180 [==============================] - 57s 316ms/step - loss: 0.0450 - acc: 0.9845 - val_loss: 1.2783 - val_acc: 0.6719\n",
            "Epoch 47/75\n",
            "180/180 [==============================] - 60s 332ms/step - loss: 0.0480 - acc: 0.9859 - val_loss: 1.3071 - val_acc: 0.6734\n",
            "Epoch 48/75\n",
            "180/180 [==============================] - 54s 302ms/step - loss: 0.0491 - acc: 0.9825 - val_loss: 1.0463 - val_acc: 0.7156\n",
            "Epoch 49/75\n",
            "180/180 [==============================] - 58s 319ms/step - loss: 0.0408 - acc: 0.9859 - val_loss: 0.9916 - val_acc: 0.7375\n",
            "Epoch 50/75\n",
            "180/180 [==============================] - 60s 332ms/step - loss: 0.0452 - acc: 0.9873 - val_loss: 1.3396 - val_acc: 0.6672\n",
            "Epoch 51/75\n",
            "180/180 [==============================] - 54s 302ms/step - loss: 0.0488 - acc: 0.9854 - val_loss: 1.5816 - val_acc: 0.6297\n",
            "Epoch 52/75\n",
            "180/180 [==============================] - 57s 314ms/step - loss: 0.0409 - acc: 0.9873 - val_loss: 1.3151 - val_acc: 0.6828\n",
            "Epoch 53/75\n",
            "180/180 [==============================] - 55s 304ms/step - loss: 0.0314 - acc: 0.9908 - val_loss: 1.1024 - val_acc: 0.6891\n",
            "Epoch 54/75\n",
            "180/180 [==============================] - 56s 310ms/step - loss: 0.0409 - acc: 0.9865 - val_loss: 1.4600 - val_acc: 0.6484\n",
            "Epoch 55/75\n",
            "180/180 [==============================] - 55s 306ms/step - loss: 0.0361 - acc: 0.9899 - val_loss: 1.3520 - val_acc: 0.6922\n",
            "Epoch 56/75\n",
            "180/180 [==============================] - 56s 312ms/step - loss: 0.0340 - acc: 0.9882 - val_loss: 0.8597 - val_acc: 0.7375\n",
            "Epoch 57/75\n",
            "180/180 [==============================] - 60s 335ms/step - loss: 0.0394 - acc: 0.9896 - val_loss: 0.9767 - val_acc: 0.7375\n",
            "Epoch 58/75\n",
            "180/180 [==============================] - 55s 307ms/step - loss: 0.0354 - acc: 0.9882 - val_loss: 0.9151 - val_acc: 0.7375\n",
            "Epoch 59/75\n",
            "180/180 [==============================] - 56s 310ms/step - loss: 0.0428 - acc: 0.9861 - val_loss: 1.3287 - val_acc: 0.6906\n",
            "Epoch 60/75\n",
            "180/180 [==============================] - 60s 332ms/step - loss: 0.0413 - acc: 0.9882 - val_loss: 1.1295 - val_acc: 0.7000\n",
            "Epoch 61/75\n",
            "180/180 [==============================] - 54s 301ms/step - loss: 0.0352 - acc: 0.9894 - val_loss: 1.1619 - val_acc: 0.7203\n",
            "Epoch 62/75\n",
            "180/180 [==============================] - 56s 310ms/step - loss: 0.0378 - acc: 0.9884 - val_loss: 1.4101 - val_acc: 0.7047\n",
            "Epoch 63/75\n",
            "180/180 [==============================] - 55s 305ms/step - loss: 0.0321 - acc: 0.9896 - val_loss: 1.2707 - val_acc: 0.6969\n",
            "Epoch 64/75\n",
            "180/180 [==============================] - 56s 310ms/step - loss: 0.0312 - acc: 0.9892 - val_loss: 1.3820 - val_acc: 0.6500\n",
            "Epoch 65/75\n",
            "180/180 [==============================] - 60s 334ms/step - loss: 0.0403 - acc: 0.9875 - val_loss: 1.1628 - val_acc: 0.6859\n",
            "Epoch 66/75\n",
            "180/180 [==============================] - 55s 305ms/step - loss: 0.0344 - acc: 0.9894 - val_loss: 1.0244 - val_acc: 0.7375\n",
            "Epoch 67/75\n",
            "180/180 [==============================] - 57s 316ms/step - loss: 0.0364 - acc: 0.9887 - val_loss: 1.1643 - val_acc: 0.7188\n",
            "Epoch 68/75\n",
            "180/180 [==============================] - 61s 338ms/step - loss: 0.0277 - acc: 0.9915 - val_loss: 1.3576 - val_acc: 0.6656\n",
            "Epoch 69/75\n",
            "180/180 [==============================] - 56s 309ms/step - loss: 0.0332 - acc: 0.9906 - val_loss: 1.2844 - val_acc: 0.6953\n",
            "Epoch 70/75\n",
            "180/180 [==============================] - 57s 317ms/step - loss: 0.0436 - acc: 0.9851 - val_loss: 1.0774 - val_acc: 0.7172\n",
            "Epoch 71/75\n",
            "180/180 [==============================] - 60s 334ms/step - loss: 0.0344 - acc: 0.9892 - val_loss: 1.3041 - val_acc: 0.6969\n",
            "Epoch 72/75\n",
            "180/180 [==============================] - 56s 309ms/step - loss: 0.0352 - acc: 0.9896 - val_loss: 1.5405 - val_acc: 0.6469\n",
            "Epoch 73/75\n",
            "180/180 [==============================] - 57s 316ms/step - loss: 0.0293 - acc: 0.9908 - val_loss: 1.5127 - val_acc: 0.6625\n",
            "Epoch 74/75\n",
            "180/180 [==============================] - 55s 307ms/step - loss: 0.0311 - acc: 0.9898 - val_loss: 1.3400 - val_acc: 0.6797\n",
            "Epoch 75/75\n",
            "180/180 [==============================] - 56s 312ms/step - loss: 0.0284 - acc: 0.9910 - val_loss: 1.1919 - val_acc: 0.7109\n"
          ]
        }
      ],
      "source": [
        "history = model.fit(\n",
        "      train_generator,\n",
        "      epochs=75,\n",
        "      validation_data=validation_generator)\n"
      ]
    },
    {
      "cell_type": "code",
      "execution_count": 18,
      "id": "0a831a0c-7f82-4cc5-a06f-7921332f7499",
      "metadata": {
        "colab": {
          "base_uri": "https://localhost:8080/"
        },
        "id": "0a831a0c-7f82-4cc5-a06f-7921332f7499",
        "outputId": "a430e98f-ce99-4cde-d851-639e5ce37075"
      },
      "outputs": [
        {
          "output_type": "stream",
          "name": "stderr",
          "text": [
            "/usr/local/lib/python3.10/dist-packages/keras/src/engine/training.py:3103: UserWarning: You are saving your model as an HDF5 file via `model.save()`. This file format is considered legacy. We recommend using instead the native Keras format, e.g. `model.save('my_model.keras')`.\n",
            "  saving_api.save_model(\n"
          ]
        }
      ],
      "source": [
        "model.save(\"model1.h5\")"
      ]
    },
    {
      "cell_type": "code",
      "execution_count": 19,
      "id": "070e654f-538e-436b-8ae5-831e16a2e903",
      "metadata": {
        "id": "070e654f-538e-436b-8ae5-831e16a2e903"
      },
      "outputs": [],
      "source": [
        "model.save(\"model1.keras\")"
      ]
    }
  ],
  "metadata": {
    "kernelspec": {
      "display_name": "Python 3",
      "name": "python3"
    },
    "language_info": {
      "codemirror_mode": {
        "name": "ipython",
        "version": 3
      },
      "file_extension": ".py",
      "mimetype": "text/x-python",
      "name": "python",
      "nbconvert_exporter": "python",
      "pygments_lexer": "ipython3",
      "version": "3.11.8"
    },
    "colab": {
      "provenance": [],
      "gpuType": "T4"
    },
    "accelerator": "GPU"
  },
  "nbformat": 4,
  "nbformat_minor": 5
}